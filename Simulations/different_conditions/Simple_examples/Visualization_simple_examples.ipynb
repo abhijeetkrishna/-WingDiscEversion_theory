{
 "cells": [
  {
   "cell_type": "code",
   "execution_count": 209,
   "metadata": {},
   "outputs": [],
   "source": [
    "from methods import *\n",
    "from matplotlib.patches import Circle, Wedge, Rectangle, Arc\n",
    "from matplotlib.collections import PatchCollection\n",
    "import seaborn as sns\n",
    "from matplotlib.colors import ListedColormap"
   ]
  },
  {
   "cell_type": "code",
   "execution_count": 211,
   "metadata": {},
   "outputs": [],
   "source": [
    "def get_isotropic_circle_subplot(ax, N = 20, zorder = 2, add_cbar = False, lambda_obj = None, add_boundary = True, boundary_lw = 1,\n",
    "                          xlim = None, ylim = None,cbar_ticks = [0.5,1,1.5], fontsize = 10, cbar_name = r\"$\\lambda$\",cmap = matplotlib.cm.RdBu_r, vmin = 0.5, vmax = 1.5,\n",
    "                         ):\n",
    "    #source : https://matplotlib.org/stable/gallery/shapes_and_collections/patch_collection.html#sphx-glr-gallery-shapes-and-collections-patch-collection-py\n",
    "    #source : https://matplotlib.org/stable/gallery/shapes_and_collections/artist_reference.html#sphx-glr-gallery-shapes-and-collections-artist-reference-py\n",
    "    #to control z order \n",
    "    #https://matplotlib.org/stable/tutorials/colors/colors.html#sphx-glr-tutorials-colors-colors-py\n",
    "    #add each patch separately to ax and mention its zorder\n",
    "\n",
    "    patches = []\n",
    "\n",
    "    R = 1\n",
    "    w = R/N\n",
    "\n",
    "    center = (0,0)\n",
    "\n",
    "    poly_obj = lambda_obj\n",
    "    radii = [(N-i)*w for i in range(N)]#[(i+1)*w for i in range(N)]\n",
    "    patches = [Wedge((center), radius, 0, 360) for radius in radii] #add width = w in Wedge if you want an annulus\n",
    "    colors = [poly_obj(radius) for radius in radii]\n",
    "\n",
    "    ###########\n",
    "    #colors = 100*np.random.random(len(patches))\n",
    "    norm = matplotlib.colors.Normalize(vmin=vmin, vmax=vmax)\n",
    "    p = PatchCollection(patches, cmap=cmap, norm = norm, alpha=1, edgecolor = None, zorder = zorder) #bwr #coolwarm #PuOr\n",
    "    p.set_array(colors)\n",
    "    ax.add_collection(p)\n",
    "    if xlim is None:\n",
    "        xlim = (-1.1*(R), 1.1*(R))\n",
    "    ax.set_xlim(xlim)\n",
    "    if ylim is None:\n",
    "        ylim = (-1.1*(R), 1.1*(R))\n",
    "    ax.set_ylim(ylim)\n",
    "    ax.set_aspect(\"equal\")\n",
    "    ax.axis('off')\n",
    "    if add_cbar: \n",
    "        cbar = plt.colorbar(p, ax = ax, ticks = cbar_ticks)\n",
    "        cbar.ax.set_yticklabels(labels = [str(x_) for x_ in cbar_ticks], fontsize = fontsize)  # vertically oriented colorbar\n",
    "        cbar.ax.set_ylabel(cbar_name, rotation=0, fontsize = fontsize)\n",
    "\n",
    "    ###########\n",
    "    \n",
    "    if add_boundary:\n",
    "        p = Arc(center, 2,2, theta1=0, theta2=360, linewidth=boundary_lw, zorder=zorder,fill = False,edgecolor=\"black\")\n",
    "        ax.add_patch(p)\n",
    "        \n",
    "    return(ax)"
   ]
  },
  {
   "cell_type": "code",
   "execution_count": 212,
   "metadata": {},
   "outputs": [],
   "source": [
    "def get_quiver_specs(R = 1, theta = 0, roi = \"outDV\", center = (0,0), stage_init =\"wL3\", stage_final = \"4hAPF\", lambda_name =\"lambda_isotropic_coeffs\", fit_lambdas_df = None,\n",
    "                     lambda_obj = None,\n",
    "                    ):\n",
    "    \n",
    "    #from roi, get the location\n",
    "    if roi == \"outDV\":\n",
    "        x,y = R*np.cos(theta)+center[0], R*np.sin(theta)+center[1]\n",
    "    if roi == \"DV\":\n",
    "        x,y = R,theta\n",
    "    \n",
    "    #from roi get the correct lambda fit poynomial\n",
    "    if lambda_obj is None:\n",
    "        query_str = 'stage_init == \"' + stage_init + '\" and stage_final == \"' + stage_final + '\" and roi == \"' + roi + '\" and prop == \"'+lambda_name+'\"'\n",
    "        poly_obj = np.poly1d(fit_lambdas_df.query(query_str)[\"value\"].iloc[0])\n",
    "    else:\n",
    "        poly_obj = lambda_obj\n",
    "    #from the polynomial get the value\n",
    "    lambda_val = poly_obj(np.abs(R))\n",
    "    #from the value get the direction\n",
    "    if roi == \"outDV\" and lambda_val < 1 :\n",
    "        u = -np.abs(1 - lambda_val)*np.sin(theta)\n",
    "        v = np.abs(1 - lambda_val)*np.cos(theta)\n",
    "    if roi == \"outDV\" and lambda_val >= 1 :\n",
    "        u = np.abs(1 - lambda_val)*np.cos(theta)\n",
    "        v = np.abs(1 - lambda_val)*np.sin(theta)\n",
    "    if roi == \"DV\" and lambda_val < 1 :\n",
    "        u = 0\n",
    "        v = np.abs(1 - lambda_val)\n",
    "    if roi == \"DV\" and lambda_val >= 1 :\n",
    "        u = np.abs(1 - lambda_val)\n",
    "        v = 0\n",
    "    \n",
    "    return(x,y,u,v)"
   ]
  },
  {
   "cell_type": "code",
   "execution_count": 213,
   "metadata": {},
   "outputs": [],
   "source": [
    "def get_nematic_circle_subplot(ax, stage_init=\"wL3\", stage_final = \"4hAPF\", lambda_name =\"lambda_anisotropic_coeffs\", DV_width = 0.2, zorder = 10, fit_lambdas_df = None, add_boundary = True,\n",
    "                        quiver_scale = 5, quiver_width = 0.005, boundary_lw = 1,\n",
    "                        xlim = None, ylim = None, lambda_obj = None, roi = \"outDV\", dtheta = 0, thetas = None, n_theta = 10, scatter_s = 1,\n",
    "                        Rs = [0.1, 0.3, 0.5, 0.7, 0.9],\n",
    "                       ):\n",
    "    #https://stackoverflow.com/questions/34375345/how-does-pythons-matplotlib-pyplot-quiver-exactly-work\n",
    "    #dtheta = 0.1\n",
    "    #Rs= np.linspace(0.1,0.9, 5)#1\n",
    "    if thetas is None: thetas = np.linspace(0+dtheta, 2*np.pi-dtheta,n_theta)\n",
    "    #center_bottom = (0,-DV_width/2)\n",
    "    #center_top = (0,DV_width/2)\n",
    "    center = (0,0)\n",
    "\n",
    "    x = []\n",
    "    y = []\n",
    "    u = []\n",
    "    v = []\n",
    "    \n",
    "    if roi == \"outDV\":\n",
    "        for R in Rs:\n",
    "            for theta in thetas:\n",
    "                x_,y_,u_,v_ = get_quiver_specs(R=R, theta=theta, roi=roi, center=center, stage_init=stage_init, stage_final=stage_final, lambda_name=lambda_name, fit_lambdas_df = fit_lambdas_df,\n",
    "                                               lambda_obj = lambda_obj\n",
    "                                              )\n",
    "                x += [x_]\n",
    "                y += [y_]\n",
    "                u += [u_]\n",
    "                v += [v_]\n",
    "\n",
    "    #DV\n",
    "    x_DVs = np.linspace(-1,1, 10)\n",
    "    y_DVs = np.linspace(-1,1, 10)\n",
    "    if roi == \"DV\":\n",
    "        for x_DV in x_DVs:\n",
    "            for y_DV in y_DVs:\n",
    "                if np.sqrt(x_DV**2 + y_DV**2) >= 1:\n",
    "                    continue\n",
    "                #pass x and y values as R and theta\n",
    "                x_,y_,u_,v_ = get_quiver_specs(R=x_DV, theta=y_DV, roi=roi, center=center, stage_init=stage_init, stage_final=stage_final, lambda_name=lambda_name, fit_lambdas_df = fit_lambdas_df,\n",
    "                                               lambda_obj = lambda_obj\n",
    "                                              )\n",
    "                x += [x_]\n",
    "                y += [y_]\n",
    "                u += [u_]\n",
    "                v += [v_]\n",
    "\n",
    "    #add quivers\n",
    "    ax.quiver(x,y,u,v, scale = quiver_scale, headwidth = 0, headlength = 0, headaxislength = 0, width = quiver_width, pivot = \"mid\", zorder = zorder) #increase scale value to decrease length of lines\n",
    "    ax.scatter(x,y,s = scatter_s, color = \"black\")\n",
    "\n",
    "    if add_boundary:\n",
    "        p = Arc(center, 2,2, theta1=0, theta2=360, linewidth=boundary_lw, zorder=zorder,fill = False,edgecolor=\"black\")\n",
    "        ax.add_patch(p)\n",
    "        #p = Arc(center_top, 2,2, theta1=0, theta2=180, linewidth=boundary_lw, zorder=zorder,fill = False,edgecolor=\"black\")\n",
    "        #ax.add_patch(p)\n",
    "        #p = Rectangle((-1,center_bottom[1]), 2, DV_width, linewidth=boundary_lw, zorder=zorder,fill = False,edgecolor=\"black\")\n",
    "        #ax.add_patch(p)\n",
    "\n",
    "    ax.set_aspect(\"equal\")\n",
    "    R = 1\n",
    "    if xlim is None:\n",
    "        xlim = (-1.1*(R+DV_width), 1.1*(R+DV_width))\n",
    "    ax.set_xlim(xlim)\n",
    "    if ylim is None:\n",
    "        ylim = (-1.1*(R+DV_width), 1.1*(R+DV_width))\n",
    "    ax.set_ylim(ylim)\n",
    "    ax.axis('off')\n",
    "\n",
    "    return(ax)\n"
   ]
  },
  {
   "cell_type": "markdown",
   "metadata": {},
   "source": [
    "## Test plot"
   ]
  },
  {
   "cell_type": "code",
   "execution_count": 214,
   "metadata": {},
   "outputs": [
    {
     "data": {
      "image/png": "[encoded data removed]",
      "text/plain": [
       "<Figure size 85.0394x56.6929 with 1 Axes>"
      ]
     },
     "metadata": {
      "needs_background": "light"
     },
     "output_type": "display_data"
    }
   ],
   "source": [
    "%matplotlib inline\n",
    "Large_font_size = 12\n",
    "Medium_font_size = 7\n",
    "Small_font_size = 5\n",
    "lw = 0.5\n",
    "text_kwargs = dict(ha='center', va='center', color='C1')\n",
    "\n",
    "#setting figuresize - by default matplotlib uses inches\n",
    "#size of A4 sheet - \n",
    "cm_ = 1/2.54  # centimeters in inches\n",
    "fig, ax = plt.subplots(figsize=(3*cm_, 2*cm_))\n",
    "#ax.text(0.5, 1.5, f'Max font : {Large_font_size}pt', fontsize = Large_font_size, **text_kwargs)\n",
    "#ax.text(0.5, 1.0, f'Med font : {Medium_font_size}pt', fontsize = Medium_font_size, **text_kwargs)\n",
    "#ax.text(0.5, 0.5, f'Small font : {Small_font_size}pt', fontsize = Small_font_size, **text_kwargs)\n",
    "ax.tick_params(axis='both', which='major', labelsize=Medium_font_size)\n",
    "ax.set_ylabel(r\"$K_b^*$\", fontsize = Medium_font_size, rotation = 0)\n",
    "ax.set_xlabel(\"g\", fontsize = Medium_font_size)\n",
    "\n",
    "os.makedirs(\"plots\", exist_ok=True)\n",
    "\n",
    "fig.savefig(\"plots/test.pdf\", bbox_inches = \"tight\")"
   ]
  },
  {
   "cell_type": "markdown",
   "metadata": {},
   "source": [
    "# Plot colorbars"
   ]
  },
  {
   "cell_type": "code",
   "execution_count": 215,
   "metadata": {},
   "outputs": [],
   "source": [
    "N = 256\n",
    "vals = np.ones((N, 4))\n",
    "#orange - 255, 153, 51\n",
    "vals[:, 0] = np.linspace(1,255/256,N) \n",
    "vals[:, 1] = np.linspace(1,153/256,N)\n",
    "vals[:, 2] = np.linspace(1,51/256,N)\n",
    "#to invert the color map, do np.linspace(255/256,1,N) and same for all the rest of the lines\n",
    "cmap_isotropic = ListedColormap(vals)\n",
    "#cmap_isotropic"
   ]
  },
  {
   "cell_type": "code",
   "execution_count": 216,
   "metadata": {},
   "outputs": [
    {
     "data": {
      "image/png": "[encoded data removed]",
      "text/plain": [
       "<Figure size 425.197x566.929 with 1 Axes>"
      ]
     },
     "metadata": {},
     "output_type": "display_data"
    }
   ],
   "source": [
    "\n",
    "#fig,ax = plt.subplots()\n",
    "fig = plt.figure(figsize = (15*cm_, 20*cm_))\n",
    "ax = fig.add_axes([0.05, 0.80, 0.9, 0.1])\n",
    "#cb = mpl.colorbar.ColorbarBase(ax, orientation='horizontal', ticks=[], cmap='RdBu') #\n",
    "cb = matplotlib.colorbar.ColorbarBase(ax, orientation='horizontal', ticks=[], cmap=cmap_isotropic) #\n",
    "cb.outline.set_linewidth(3)\n",
    "cb.set_alpha(1)\n",
    "plt.savefig('plots/colorbar_isotropic.pdf', bbox_inches='tight')"
   ]
  },
  {
   "cell_type": "code",
   "execution_count": 217,
   "metadata": {},
   "outputs": [
    {
     "data": {
      "image/png": "[encoded data removed]",
      "text/plain": [
       "<Figure size 425.197x566.929 with 1 Axes>"
      ]
     },
     "metadata": {},
     "output_type": "display_data"
    }
   ],
   "source": [
    "cmap_anisotropic = sns.diverging_palette(145,300, s=60, as_cmap=True)\n",
    "\n",
    "#colorbar\n",
    "fig = plt.figure(figsize = (15*cm_, 20*cm_))\n",
    "ax = fig.add_axes([0.05, 0.80, 0.9, 0.1])\n",
    "#cb = mpl.colorbar.ColorbarBase(ax, orientation='horizontal', ticks=[], cmap='RdBu') #\n",
    "cb = matplotlib.colorbar.ColorbarBase(ax, orientation='horizontal', ticks=[], cmap=cmap_anisotropic) #\n",
    "cb.outline.set_linewidth(3)\n",
    "plt.savefig('plots/colorbar_anisotropic.pdf', bbox_inches='tight')"
   ]
  },
  {
   "cell_type": "markdown",
   "metadata": {},
   "source": [
    "## Homogeneous isotropic surface "
   ]
  },
  {
   "cell_type": "code",
   "execution_count": 218,
   "metadata": {},
   "outputs": [
    {
     "data": {
      "image/png": "[encoded data removed]",
      "text/plain": [
       "<Figure size 226.772x141.732 with 1 Axes>"
      ]
     },
     "metadata": {
      "needs_background": "light"
     },
     "output_type": "display_data"
    }
   ],
   "source": [
    "lambda_obj = np.poly1d([0,1])\n",
    "figsize = (8*cm_, 5*cm_)\n",
    "fig,ax = plt.subplots(figsize = figsize)\n",
    "\n",
    "ax = get_isotropic_circle_subplot(ax, lambda_obj=lambda_obj, boundary_lw=lw, add_cbar=False, fontsize = Medium_font_size, cmap = cmap_isotropic,vmin = 1, vmax = 1.3)\n",
    "fig.savefig(\"plots/inhomogeneous_isotropic_surface_no_gradient.pdf\", bbox_inches = \"tight\")"
   ]
  },
  {
   "cell_type": "code",
   "execution_count": 219,
   "metadata": {},
   "outputs": [
    {
     "data": {
      "image/png": "[encoded data removed]",
      "text/plain": [
       "<Figure size 226.772x141.732 with 1 Axes>"
      ]
     },
     "metadata": {
      "needs_background": "light"
     },
     "output_type": "display_data"
    }
   ],
   "source": [
    "lambda_obj = np.poly1d([-0.5,1.5])\n",
    "figsize = (8*cm_, 5*cm_)\n",
    "fig,ax = plt.subplots(figsize = figsize)\n",
    "\n",
    "ax = get_isotropic_circle_subplot(ax, lambda_obj=lambda_obj, boundary_lw=lw, add_cbar=False, fontsize = Medium_font_size, cmap = cmap_isotropic, vmin = 1, vmax = 1.3)\n",
    "fig.savefig(\"plots/inhomogeneous_isotropic_surface_gradient_in.pdf\", bbox_inches = \"tight\")"
   ]
  },
  {
   "cell_type": "code",
   "execution_count": 220,
   "metadata": {},
   "outputs": [
    {
     "data": {
      "image/png": "[encoded data removed]",
      "text/plain": [
       "<Figure size 226.772x141.732 with 1 Axes>"
      ]
     },
     "metadata": {
      "needs_background": "light"
     },
     "output_type": "display_data"
    }
   ],
   "source": [
    "lambda_obj = np.poly1d([0.5,1])\n",
    "figsize = (8*cm_, 5*cm_)\n",
    "fig,ax = plt.subplots(figsize = figsize)\n",
    "\n",
    "ax = get_isotropic_circle_subplot(ax, lambda_obj=lambda_obj, boundary_lw=lw, add_cbar=False, fontsize = Medium_font_size, cmap = cmap_isotropic, vmin = 1, vmax = 1.3)\n",
    "fig.savefig(\"plots/inhomogeneous_isotropic_surface_gradient_out.pdf\", bbox_inches = \"tight\")"
   ]
  },
  {
   "cell_type": "code",
   "execution_count": 221,
   "metadata": {},
   "outputs": [
    {
     "data": {
      "image/png": "[encoded data removed]",
      "text/plain": [
       "<Figure size 226.772x141.732 with 1 Axes>"
      ]
     },
     "metadata": {
      "needs_background": "light"
     },
     "output_type": "display_data"
    }
   ],
   "source": [
    "lambda_obj = np.poly1d([1.5])\n",
    "figsize = (8*cm_, 5*cm_)\n",
    "fig,ax = plt.subplots(figsize = figsize)\n",
    "\n",
    "ax = get_isotropic_circle_subplot(ax, lambda_obj=lambda_obj, boundary_lw=lw, add_cbar=False, fontsize = Medium_font_size, cmap = cmap_isotropic, vmin = 1, vmax = 1.3)\n",
    "fig.savefig(\"plots/homogeneous_isotropic_surface.pdf\", bbox_inches = \"tight\")"
   ]
  },
  {
   "cell_type": "markdown",
   "metadata": {},
   "source": [
    "## Tangential elongation"
   ]
  },
  {
   "cell_type": "code",
   "execution_count": 253,
   "metadata": {},
   "outputs": [],
   "source": [
    "quiver_scale=3\n",
    "quiver_width=0.01\n",
    "vmin = 0.7 \n",
    "vmax = 1.3"
   ]
  },
  {
   "cell_type": "code",
   "execution_count": 255,
   "metadata": {},
   "outputs": [
    {
     "data": {
      "image/png": "[encoded data removed]",
      "text/plain": [
       "<Figure size 226.772x141.732 with 1 Axes>"
      ]
     },
     "metadata": {
      "needs_background": "light"
     },
     "output_type": "display_data"
    }
   ],
   "source": [
    "lambda_obj = np.poly1d([0, 1])\n",
    "figsize = (8*cm_, 5*cm_)\n",
    "fig,ax = plt.subplots(figsize = figsize)\n",
    "\n",
    "\n",
    "thetas = np.arange(0,2*np.pi,2*np.pi/(10))\n",
    "ax = get_nematic_circle_subplot(ax, lambda_obj=lambda_obj, boundary_lw=lw, roi = \"outDV\", thetas = thetas,\n",
    "                                quiver_scale = quiver_scale, quiver_width = quiver_width,\n",
    "                               )\n",
    "ax = get_isotropic_circle_subplot(ax, lambda_obj=lambda_obj, boundary_lw=lw, add_cbar=False, fontsize = Medium_font_size, cmap = cmap_anisotropic, vmin = vmin, vmax = vmax)\n",
    "fig.savefig(\"plots/tangential_elongation_no_elongation.pdf\", bbox_inches = \"tight\")"
   ]
  },
  {
   "cell_type": "code",
   "execution_count": 256,
   "metadata": {},
   "outputs": [
    {
     "data": {
      "image/png": "[encoded data removed]",
      "text/plain": [
       "<Figure size 226.772x141.732 with 1 Axes>"
      ]
     },
     "metadata": {
      "needs_background": "light"
     },
     "output_type": "display_data"
    }
   ],
   "source": [
    "lambda_obj = np.poly1d([-0.1, 1])\n",
    "figsize = (8*cm_, 5*cm_)\n",
    "fig,ax = plt.subplots(figsize = figsize)\n",
    "\n",
    "\n",
    "thetas = np.arange(0,2*np.pi,2*np.pi/(10))\n",
    "ax = get_nematic_circle_subplot(ax, lambda_obj=lambda_obj, boundary_lw=lw, roi = \"outDV\", thetas = thetas,\n",
    "                                quiver_scale = quiver_scale, quiver_width = quiver_width,\n",
    "                               )\n",
    "ax = get_isotropic_circle_subplot(ax, lambda_obj=lambda_obj, boundary_lw=lw, add_cbar=False, fontsize = Medium_font_size, cmap = cmap_anisotropic, vmin = vmin, vmax = vmax)\n",
    "fig.savefig(\"plots/tangential_elongation_gradient_out.pdf\", bbox_inches = \"tight\")"
   ]
  },
  {
   "cell_type": "code",
   "execution_count": 257,
   "metadata": {},
   "outputs": [
    {
     "data": {
      "image/png": "[encoded data removed]",
      "text/plain": [
       "<Figure size 226.772x141.732 with 1 Axes>"
      ]
     },
     "metadata": {
      "needs_background": "light"
     },
     "output_type": "display_data"
    }
   ],
   "source": [
    "lambda_obj = np.poly1d([-0.25, 1])\n",
    "figsize = (8*cm_, 5*cm_)\n",
    "fig,ax = plt.subplots(figsize = figsize)\n",
    "\n",
    "\n",
    "thetas = np.arange(0,2*np.pi,2*np.pi/(10))\n",
    "ax = get_nematic_circle_subplot(ax, lambda_obj=lambda_obj, boundary_lw=lw, roi = \"outDV\", thetas = thetas,\n",
    "                                quiver_scale = quiver_scale, quiver_width = quiver_width,\n",
    "                               )\n",
    "cmap  = sns.diverging_palette(145, 300, s=60, as_cmap=True) #matplotlib.cm.PuOr\n",
    "ax = get_isotropic_circle_subplot(ax, lambda_obj=lambda_obj, boundary_lw=lw, add_cbar=False, fontsize = Medium_font_size, cmap = cmap_anisotropic, vmin = vmin, vmax = vmax)\n",
    "fig.savefig(\"plots/tangential_elongation_gradient_out_stronger.pdf\", bbox_inches = \"tight\")"
   ]
  },
  {
   "cell_type": "code",
   "execution_count": 258,
   "metadata": {},
   "outputs": [
    {
     "data": {
      "image/png": "[encoded data removed]",
      "text/plain": [
       "<Figure size 226.772x141.732 with 1 Axes>"
      ]
     },
     "metadata": {
      "needs_background": "light"
     },
     "output_type": "display_data"
    }
   ],
   "source": [
    "lambda_obj = np.poly1d([0.25, 0.75])\n",
    "figsize = (8*cm_, 5*cm_)\n",
    "fig,ax = plt.subplots(figsize = figsize)\n",
    "\n",
    "\n",
    "thetas = np.arange(0,2*np.pi,2*np.pi/(10))\n",
    "ax = get_nematic_circle_subplot(ax, lambda_obj=lambda_obj, boundary_lw=lw, roi = \"outDV\", thetas = thetas,\n",
    "                                quiver_scale = quiver_scale, quiver_width = quiver_width,\n",
    "                               )\n",
    "cmap  = sns.diverging_palette(145, 300, s=60, as_cmap=True) #matplotlib.cm.PuOr\n",
    "ax = get_isotropic_circle_subplot(ax, lambda_obj=lambda_obj, boundary_lw=lw, add_cbar=False, fontsize = Medium_font_size, cmap = cmap_anisotropic, vmin = vmin, vmax = vmax)\n",
    "fig.savefig(\"plots/tangential_elongation_gradient_in_stronger.pdf\", bbox_inches = \"tight\")"
   ]
  },
  {
   "cell_type": "markdown",
   "metadata": {},
   "source": [
    "## Radial elongation"
   ]
  },
  {
   "cell_type": "code",
   "execution_count": 259,
   "metadata": {},
   "outputs": [],
   "source": [
    "quiver_scale=8\n",
    "quiver_width=0.01"
   ]
  },
  {
   "cell_type": "code",
   "execution_count": 260,
   "metadata": {},
   "outputs": [
    {
     "data": {
      "image/png": "[encoded data removed]",
      "text/plain": [
       "<Figure size 226.772x141.732 with 1 Axes>"
      ]
     },
     "metadata": {
      "needs_background": "light"
     },
     "output_type": "display_data"
    }
   ],
   "source": [
    "lambda_obj = np.poly1d([0.5, 1])\n",
    "figsize = (8*cm_, 5*cm_)\n",
    "fig,ax = plt.subplots(figsize = figsize)\n",
    "\n",
    "\n",
    "thetas = np.arange(0,2*np.pi,2*np.pi/(10))\n",
    "ax = get_nematic_circle_subplot(ax, lambda_obj=lambda_obj, boundary_lw=lw, roi = \"outDV\", thetas = thetas,\n",
    "                                quiver_scale = quiver_scale, quiver_width = quiver_width, Rs = [0.2, 0.4, 0.6, 0.8]\n",
    "                               )\n",
    "ax = get_isotropic_circle_subplot(ax, lambda_obj=lambda_obj, boundary_lw=lw, add_cbar=False, fontsize = Medium_font_size, cmap = cmap_anisotropic, vmin = vmin, vmax = vmax)\n",
    "fig.savefig(\"plots/radial_elongation_radially_increasing.pdf\", bbox_inches = \"tight\")"
   ]
  },
  {
   "cell_type": "code",
   "execution_count": 261,
   "metadata": {},
   "outputs": [
    {
     "data": {
      "image/png": "[encoded data removed]",
      "text/plain": [
       "<Figure size 226.772x141.732 with 1 Axes>"
      ]
     },
     "metadata": {
      "needs_background": "light"
     },
     "output_type": "display_data"
    }
   ],
   "source": [
    "lambda_obj = np.poly1d([-0.5, 1.5])\n",
    "figsize = (8*cm_, 5*cm_)\n",
    "fig,ax = plt.subplots(figsize = figsize)\n",
    "\n",
    "\n",
    "thetas = np.arange(0,2*np.pi,2*np.pi/(10))\n",
    "ax = get_nematic_circle_subplot(ax, lambda_obj=lambda_obj, boundary_lw=lw, roi = \"outDV\", thetas = thetas,\n",
    "                                quiver_scale = quiver_scale, quiver_width = quiver_width, Rs = [0.2, 0.4, 0.6, 0.8]\n",
    "                               )\n",
    "ax = get_isotropic_circle_subplot(ax, lambda_obj=lambda_obj, boundary_lw=lw, add_cbar=False, fontsize = Medium_font_size, cmap = cmap_anisotropic, vmin = vmin, vmax = vmax)\n",
    "fig.savefig(\"plots/radial_elongation_radially_decreasing.pdf\", bbox_inches = \"tight\")"
   ]
  },
  {
   "cell_type": "code",
   "execution_count": 262,
   "metadata": {},
   "outputs": [
    {
     "data": {
      "image/png": "[encoded data removed]",
      "text/plain": [
       "<Figure size 226.772x141.732 with 1 Axes>"
      ]
     },
     "metadata": {
      "needs_background": "light"
     },
     "output_type": "display_data"
    }
   ],
   "source": [
    "lambda_obj = np.poly1d([0, 1.25])\n",
    "figsize = (8*cm_, 5*cm_)\n",
    "fig,ax = plt.subplots(figsize = figsize)\n",
    "\n",
    "\n",
    "thetas = np.arange(0,2*np.pi,2*np.pi/(10))\n",
    "ax = get_nematic_circle_subplot(ax, lambda_obj=lambda_obj, boundary_lw=lw, roi = \"outDV\", thetas = thetas,\n",
    "                                quiver_scale = quiver_scale, quiver_width = quiver_width, Rs = [0.2, 0.4, 0.6, 0.8]\n",
    "                               )\n",
    "ax = get_isotropic_circle_subplot(ax, lambda_obj=lambda_obj, boundary_lw=lw, add_cbar=False, fontsize = Medium_font_size, cmap = cmap_anisotropic, vmin = vmin, vmax = vmax)\n",
    "fig.savefig(\"plots/radial_elongation_radially_constant.pdf\", bbox_inches = \"tight\")"
   ]
  },
  {
   "cell_type": "markdown",
   "metadata": {},
   "source": [
    "## Inhomogeneous alongDV elongation"
   ]
  },
  {
   "cell_type": "code",
   "execution_count": 263,
   "metadata": {},
   "outputs": [
    {
     "data": {
      "image/png": "[encoded data removed]",
      "text/plain": [
       "<Figure size 226.772x141.732 with 1 Axes>"
      ]
     },
     "metadata": {
      "needs_background": "light"
     },
     "output_type": "display_data"
    }
   ],
   "source": [
    "lambda_obj = np.poly1d([0, 1.25])\n",
    "figsize = (8*cm_, 5*cm_)\n",
    "fig,ax = plt.subplots(figsize = figsize)\n",
    "\n",
    "\n",
    "thetas = np.arange(0,2*np.pi,2*np.pi/(10))\n",
    "ax = get_nematic_circle_subplot(ax, lambda_obj=lambda_obj, boundary_lw=lw, roi = \"DV\", #thetas = thetas,\n",
    "                                quiver_scale = quiver_scale, quiver_width = quiver_width,\n",
    "                               )\n",
    "ax = get_isotropic_circle_subplot(ax, lambda_obj=lambda_obj, boundary_lw=lw, add_cbar=False, fontsize = Medium_font_size, cmap = cmap_anisotropic, vmin = vmin, vmax = vmax)\n",
    "fig.savefig(\"plots/elongation_along_DV_constant.pdf\", bbox_inches = \"tight\")"
   ]
  }
 ],
 "metadata": {
  "kernelspec": {
   "display_name": "test310",
   "language": "python",
   "name": "test310"
  },
  "language_info": {
   "codemirror_mode": {
    "name": "ipython",
    "version": 3
   },
   "file_extension": ".py",
   "mimetype": "text/x-python",
   "name": "python",
   "nbconvert_exporter": "python",
   "pygments_lexer": "ipython3",
   "version": "3.10.5"
  }
 },
 "nbformat": 4,
 "nbformat_minor": 4
}
