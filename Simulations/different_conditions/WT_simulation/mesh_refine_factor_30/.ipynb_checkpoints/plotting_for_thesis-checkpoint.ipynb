{
 "cells": [
  {
   "cell_type": "code",
   "execution_count": 1,
   "metadata": {},
   "outputs": [],
   "source": [
    "from wd_2D_functions import *"
   ]
  },
  {
   "cell_type": "markdown",
   "metadata": {},
   "source": [
    "# Test Plot"
   ]
  },
  {
   "cell_type": "code",
   "execution_count": 2,
   "metadata": {},
   "outputs": [
    {
     "data": {
      "image/png": "[encoded data removed]",
      "text/plain": [
       "<Figure size 85.0394x56.6929 with 1 Axes>"
      ]
     },
     "metadata": {
      "needs_background": "light"
     },
     "output_type": "display_data"
    }
   ],
   "source": [
    "Large_font_size = 12\n",
    "Medium_font_size = 7\n",
    "Small_font_size = 5\n",
    "lw = 1\n",
    "text_kwargs = dict(ha='center', va='center', color='C1')\n",
    "\n",
    "#setting figuresize - by default matplotlib uses inches\n",
    "#size of A4 sheet - \n",
    "cm_ = 1/2.54  # centimeters in inches\n",
    "fig, ax = plt.subplots(figsize=(3*cm_, 2*cm_))\n",
    "#ax.text(0.5, 1.5, f'Max font : {Large_font_size}pt', fontsize = Large_font_size, **text_kwargs)\n",
    "#ax.text(0.5, 1.0, f'Med font : {Medium_font_size}pt', fontsize = Medium_font_size, **text_kwargs)\n",
    "#ax.text(0.5, 0.5, f'Small font : {Small_font_size}pt', fontsize = Small_font_size, **text_kwargs)\n",
    "ax.tick_params(axis='both', which='major', labelsize=Medium_font_size)\n",
    "ax.set_ylabel(r\"$K_b^*$\", fontsize = Medium_font_size, rotation = 0)\n",
    "ax.set_xlabel(\"g\", fontsize = Medium_font_size)\n",
    "\n",
    "os.makedirs(\"plots\", exist_ok=True)\n",
    "\n",
    "fig.savefig(\"plots/test.pdf\", bbox_inches = \"tight\")"
   ]
  },
  {
   "cell_type": "code",
   "execution_count": 3,
   "metadata": {},
   "outputs": [],
   "source": [
    "#load data\n",
    "df_mean = pd.read_csv(\"analysis/crosssections_interpolated_mean.csv\")\n",
    "devstage = \"4hAPF\"\n",
    "\n",
    "\n",
    "crosssections = [\"Across_DV\",\"Along_DV\"]\n",
    "#param_comb_df = pd.read_csv(glob.glob('map_index_[0-9]*.csv')[0])\n",
    "#devstages = [\"wL3\", \"0hAPF\", \"2hAPF\", \"4hAPF\"]\n",
    "#thicknesses = [0.05, 0.1, 0.15]#np.sort(np.unique(param_comb_df[\"thickness\"]))\n",
    "genotype = 'ecadGFPnbG4'\n",
    "\n",
    "#curves_all = pd.DataFrame()\n",
    "#curves_mean = pd.DataFrame()\n",
    "\n",
    "step_size_in_microns = 2\n"
   ]
  },
  {
   "cell_type": "code",
   "execution_count": 4,
   "metadata": {},
   "outputs": [
    {
     "data": {
      "image/png": "[encoded data removed]",
      "text/plain": [
       "<Figure size 299.339x151.937 with 4 Axes>"
      ]
     },
     "metadata": {
      "needs_background": "light"
     },
     "output_type": "display_data"
    }
   ],
   "source": [
    "figsize = (10.56*cm_, 5.36*cm_)\n",
    "fig,axs = plt.subplots(1,3, figsize = figsize)\n",
    "\n",
    "\n",
    "main_xlabel = r\"$h/R$\"\n",
    "thicknesses = [0.05, 0.1, 0.15]\n",
    "spine_position = 4*Medium_font_size\n",
    "col_vals = thicknesses\n",
    "row_vals = [\"4hAPF\"]\n",
    "\n",
    "main_ax = fig.add_subplot(111, frameon=True, alpha = 0.5)\n",
    "main_ax.set_facecolor('none')\n",
    "# Hide the right and top spines\n",
    "main_ax.spines['right'].set_visible(False)\n",
    "main_ax.spines['top'].set_visible(False)\n",
    "main_ax.spines['left'].set_visible(False)#set_position(('outward', spine_position))\n",
    "main_ax.spines['bottom'].set_position(('outward', spine_position))\n",
    "main_ax.set_xlabel(main_xlabel, fontsize = Medium_font_size, labelpad = Small_font_size)\n",
    "\n",
    "main_ax.set_xlim(-0.5,len(col_vals) -0.5)\n",
    "main_ax.set_ylim(-0.5, len(row_vals) -0.5)\n",
    "#tick_intervals_x = [round(x,2) for x in col_vals]\n",
    "tick_intervals_x = col_vals\n",
    "tick_intervals_x_str = [str(round(x,2)) for x in tick_intervals_x]\n",
    "main_ax.set_xticks(range(len(tick_intervals_x_str)), tick_intervals_x_str, fontsize = Medium_font_size)\n",
    "main_ax.set_yticks([])\n",
    "main_ax.tick_params(axis=u'both', which=u'both',length=Medium_font_size/2)\n",
    "#main_ax.set_title(main_title, fontsize = 40, y = 1.1)\n",
    "\n",
    "for i in range(len(thicknesses)):\n",
    "    \n",
    "    ax = axs[i]\n",
    "    thickness = thicknesses[i]\n",
    "    \n",
    "    for crosssection in crosssections:\n",
    "\n",
    "        linestyle = \"-\" if crosssection == \"Across_DV\" else \"--\"\n",
    "        df = df_mean.query(\"devstage == @devstage and crosssection == @crosssection and thickness == @thickness\")\n",
    "        #ax.plot(df[\"arclength\"], df[\"curvature\"], color = \"black\", linestyle = linestyle, linewidth = lw)\n",
    "        ax.fill_between(x = df['arclength'].tolist(), y1 = (df['curvature'] - df['curvature_sd']).tolist(), y2 = (df['curvature'] + df['curvature_sd']).tolist(), \n",
    "                        color = 'gray', alpha = 0.5, linewidth = 0,)\n",
    "        ax.plot(df['arclength'], df['curvature'], label = crosssection, linewidth = lw, color = 'black', linestyle = linestyle,\n",
    "               )\n",
    "\n",
    "    if thickness == 0.05:\n",
    "        ax.set_ylim(-0.005, 0.07)\n",
    "        ax.set_yticks([0,0.03,0.06])\n",
    "    else:\n",
    "        ax.set_ylim(-0.005,0.05)\n",
    "        ax.set_yticks([0,0.02,0.04])\n",
    "    ax.set_xlim(-110, 110)\n",
    "    ax.set_xticks([-100,0,100])\n",
    "    ax.tick_params(axis = 'both', labelsize = Medium_font_size, length = Small_font_size/2, pad = 0)\n",
    "    ax.set_xlabel('Arclength ' + r'$(\\mu m)$', fontsize = Medium_font_size)\n",
    "\n",
    "    if i == 0:\n",
    "        ax.set_ylabel('Curvature ' + r'$(\\mu m^{-1})$', fontsize = Medium_font_size)\n",
    "    ax.axhline(y = 0.0128, linewidth = lw/2, linestyle = '-', color = \"gray\", zorder = 0)\n",
    "\n",
    "fig.tight_layout(pad = 0.3)\n",
    "fig.savefig(\"plots/WT_curvature_thickness.pdf\", bbox_inches = \"tight\")\n"
   ]
  },
  {
   "cell_type": "markdown",
   "metadata": {},
   "source": [
    "## Plot single thickness (0.01)"
   ]
  },
  {
   "cell_type": "code",
   "execution_count": 5,
   "metadata": {},
   "outputs": [
    {
     "data": {
      "image/png": "[encoded data removed]",
      "text/plain": [
       "<Figure size 87.874x88.7244 with 1 Axes>"
      ]
     },
     "metadata": {
      "needs_background": "light"
     },
     "output_type": "display_data"
    }
   ],
   "source": [
    "figsize = (3.1*cm_, 3.13*cm_)\n",
    "fig,ax = plt.subplots(figsize = figsize)\n",
    "\n",
    "thickness = thicknesses[i]\n",
    "\n",
    "for crosssection in crosssections:\n",
    "\n",
    "    linestyle = \"-\" if crosssection == \"Across_DV\" else \"--\"\n",
    "    df = df_mean.query(\"devstage == @devstage and crosssection == @crosssection and thickness == @thickness\")\n",
    "    #ax.plot(df[\"arclength\"], df[\"curvature\"], color = \"black\", linestyle = linestyle, linewidth = lw)\n",
    "    ax.fill_between(x = df['arclength'].tolist(), y1 = (df['curvature'] - df['curvature_sd']).tolist(), y2 = (df['curvature'] + df['curvature_sd']).tolist(), \n",
    "                    color = 'gray', alpha = 0.5, linewidth = 0,)\n",
    "    ax.plot(df['arclength'], df['curvature'], label = crosssection, linewidth = lw, color = 'black', linestyle = linestyle,\n",
    "           )\n",
    "    \n",
    "ax.set_ylim(-0.005,0.05)\n",
    "ax.set_yticks([0,0.02,0.04])\n",
    "ax.set_xlim(-110, 110)\n",
    "ax.set_xticks([-100,0,100])\n",
    "ax.tick_params(axis = 'both', labelsize = Medium_font_size, length = Small_font_size/2, pad = 0)\n",
    "ax.set_xlabel('Arclength ' + r'$(\\mu m)$', fontsize = Medium_font_size)\n",
    "ax.set_ylabel('Curvature ' + r'$(\\mu m^{-1})$', fontsize = Medium_font_size)\n",
    "ax.axhline(y = 0.0128, linewidth = lw/2, linestyle = '-', color = \"gray\", zorder = 0)\n",
    "fig.savefig(\"plots/WT_curvature_thickness_0.1.pdf\", bbox_inches = \"tight\")\n"
   ]
  },
  {
   "cell_type": "markdown",
   "metadata": {},
   "source": [
    "# Plotting data"
   ]
  },
  {
   "cell_type": "code",
   "execution_count": 6,
   "metadata": {},
   "outputs": [],
   "source": [
    "exp_data_path = \"/Users/krishna/PhD/WingDiscEversion_theory/Experiments/data/segmented_curves/\"\n",
    "genotype = \"ecadGFPnbG4\""
   ]
  },
  {
   "cell_type": "code",
   "execution_count": 7,
   "metadata": {},
   "outputs": [
    {
     "data": {
      "image/png": "[encoded data removed]",
      "text/plain": [
       "<Figure size 87.874x88.7244 with 1 Axes>"
      ]
     },
     "metadata": {
      "needs_background": "light"
     },
     "output_type": "display_data"
    }
   ],
   "source": [
    "\n",
    "figsize = (3.1*cm_, 3.13*cm_)\n",
    "fig,ax = plt.subplots(figsize = figsize)\n",
    "\n",
    "devstage = \"4hAPF\"\n",
    "crosssections = [\"Along_DV\", \"Across_DV\"]\n",
    "\n",
    "for crosssection in crosssections:\n",
    "    df_mean = pd.read_csv(exp_data_path + crosssection + \"_\" + genotype + \"_pouchShape_interpolated_mean.csv\")\n",
    "    df = df_mean[df_mean['devstage'] == devstage]\n",
    "    linestyle = \"-\" if crosssection == \"Across_DV\" else \"--\"\n",
    "    max_pathlength_df = pd.read_csv(exp_data_path + \"max_pathlength_df_\"+genotype+\".csv\")\n",
    "    arclength_threshold = max_pathlength_df.query(\"devstage == @devstage and crosssection == @crosssection\")[\"max_pathlength\"].values[0]\n",
    "    df = df[np.abs(df[\"arclength\"]) <= arclength_threshold]\n",
    "    #plot\n",
    "    ax.plot(df['arclength'], df['curvature'],color = 'black',linewidth = lw, label = crosssection, zorder = 2, linestyle = linestyle)\n",
    "    ax.fill_between(x = df['arclength'].tolist(), y1 = (df['curvature'] - df['curvature_sd']).tolist(), y2 = (df['curvature'] + df['curvature_sd']).tolist(), \n",
    "                    color = 'gray', alpha = 0.5, linewidth = 0,)\n",
    "\n",
    "    \n",
    "ax.axhline(y = 0.0128, linewidth = lw/2, linestyle = '-', color = \"gray\", zorder = 0)\n",
    "ax.set_ylim(-0.005, 0.05)\n",
    "ax.set_xlim(-110, 110)\n",
    "ax.set_xlabel(\"Arclength \" + r\"$(\\mu m)$\", fontsize = Medium_font_size)\n",
    "ax.set_ylabel(\"Curvature \" + r\"$(\\mu m^{-1})$\", fontsize = Medium_font_size)\n",
    "ax.tick_params(axis='both', which='major', labelsize=Medium_font_size, pad = 0, length = Small_font_size/2)\n",
    "_ = ax.set_yticks([0,0.02, 0.04])\n",
    "_ = ax.set_xticks([-100,0,100])\n",
    "ax.set_title(\"wL3 \" + r\"$\\to$\" + \" 4hAPF\", fontsize = Medium_font_size)\n",
    "\n",
    "os.makedirs(\"sim_output/plots/\", exist_ok = True)\n",
    "fig.savefig(f\"plots/data_curvature_{devstage}.pdf\", bbox_inches = \"tight\")\n",
    "\n"
   ]
  }
 ],
 "metadata": {
  "kernelspec": {
   "display_name": "test310",
   "language": "python",
   "name": "test310"
  },
  "language_info": {
   "codemirror_mode": {
    "name": "ipython",
    "version": 3
   },
   "file_extension": ".py",
   "mimetype": "text/x-python",
   "name": "python",
   "nbconvert_exporter": "python",
   "pygments_lexer": "ipython3",
   "version": "3.10.5"
  }
 },
 "nbformat": 4,
 "nbformat_minor": 4
}
